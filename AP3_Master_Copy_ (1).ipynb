{
  "cells": [
    {
      "cell_type": "markdown",
      "metadata": {
        "id": "zjvze5bz1RTt"
      },
      "source": [
        "**Book Summaries** - A BERT analysis"
      ]
    },
    {
      "cell_type": "markdown",
      "source": [
        "# Part A - Modeling"
      ],
      "metadata": {
        "id": "zI06Lf1gkWPH"
      }
    },
    {
      "cell_type": "markdown",
      "source": [
        "## Prep"
      ],
      "metadata": {
        "id": "Q_j4KU-nkhxF"
      }
    },
    {
      "cell_type": "code",
      "execution_count": null,
      "metadata": {
        "id": "9STg8n5A1OF_",
        "colab": {
          "base_uri": "https://localhost:8080/"
        },
        "outputId": "f8061ece-d74f-41e6-d8c5-5939c36461de"
      },
      "outputs": [
        {
          "output_type": "stream",
          "name": "stdout",
          "text": [
            "/usr/lib/python3.10/runpy.py:126: RuntimeWarning: 'nltk.downloader' found in sys.modules after import of package 'nltk', but prior to execution of 'nltk.downloader'; this may result in unpredictable behaviour\n",
            "  warn(RuntimeWarning(msg))\n",
            "[nltk_data] Downloading package punkt to /root/nltk_data...\n",
            "[nltk_data]   Package punkt is already up-to-date!\n",
            "Drive already mounted at /content/drive; to attempt to forcibly remount, call drive.mount(\"/content/drive\", force_remount=True).\n"
          ]
        }
      ],
      "source": [
        "from scipy import sparse\n",
        "from sklearn import linear_model\n",
        "from collections import Counter\n",
        "import numpy as np\n",
        "import operator\n",
        "import nltk\n",
        "import math\n",
        "from scipy.stats import norm\n",
        "import pandas as pd\n",
        "!python -m nltk.downloader punkt\n",
        "from sklearn.feature_extraction.text import TfidfVectorizer\n",
        "from sklearn.linear_model import LogisticRegression\n",
        "import operator\n",
        "\n",
        "from google.colab import drive\n",
        "drive.mount('/content/drive')\n",
        "df = pd.read_excel('/content/drive/MyDrive/INFO_159_AP3/adj.xlsx')\n"
      ]
    },
    {
      "cell_type": "code",
      "execution_count": null,
      "metadata": {
        "id": "o0kFNnDt2HOS"
      },
      "outputs": [],
      "source": [
        "#300 train\n",
        "#100 test\n",
        "#100 dev\n",
        "#start at 1 to account for titles\n",
        "#already shuffled in the dataset but doesn't hurt here\n",
        "df_shuff = df.sample(frac = 1)\n",
        "\n",
        "labels = df_shuff[\"Category\"]\n",
        "#intLabels = list(labels.replace({'Business': 0, 'History': 1, 'Personal Development':2, 'Physical Health': 3, 'Technology':4, 'Other':5}))\n",
        "\n",
        "#df_shuff[\"Category\"] = intLabels\n",
        "df_train = df_shuff[0:300]\n",
        "df_test = df_shuff[300:400]\n",
        "df_dev = df_shuff[400:]\n",
        "\n",
        "df_train.to_csv('/content/drive/MyDrive/INFO_159_AP3/splits/train.txt', sep=' ', index=False)\n",
        "df_test.to_csv('/content/drive/MyDrive/INFO_159_AP3/splits/test.txt', sep=' ', index=False)\n",
        "df_dev.to_csv('/content/drive/MyDrive/INFO_159_AP3/splits/dev.txt', sep=' ', index=False)"
      ]
    },
    {
      "cell_type": "markdown",
      "source": [
        "## Simple Logistic Regression Model"
      ],
      "metadata": {
        "id": "cDf3dG91T9O0"
      }
    },
    {
      "cell_type": "code",
      "source": [
        "class BoW_Classifier:\n",
        "\n",
        "    def __init__(self, feature_method, trainX, trainY, devX, devY, testX, testY):\n",
        "        self.feature_vocab = {}\n",
        "        self.feature_method = feature_method\n",
        "        self.min_feature_count=2\n",
        "        self.log_reg = None\n",
        "\n",
        "        self.trainY=trainY\n",
        "        self.devY=devY\n",
        "        self.testY=testY\n",
        "\n",
        "        self.trainX = self.process(trainX, training=True)\n",
        "        self.devX = self.process(devX, training=False)\n",
        "        self.testX = self.process(testX, training=False)\n",
        "\n",
        "    # Featurize entire dataset\n",
        "    def featurize(self, data):\n",
        "        featurized_data = []\n",
        "        for text in data:\n",
        "            feats = self.feature_method(text)\n",
        "            featurized_data.append(feats)\n",
        "        return featurized_data\n",
        "\n",
        "    # Read dataset and returned featurized representation as sparse matrix + label array\n",
        "    def process(self, X_data, training = False):\n",
        "\n",
        "        data = self.featurize(X_data)\n",
        "\n",
        "        if training:\n",
        "            fid = 0\n",
        "            feature_doc_count = Counter()\n",
        "            for feats in data:\n",
        "                for feat in feats:\n",
        "                    feature_doc_count[feat]+= 1\n",
        "\n",
        "            for feat in feature_doc_count:\n",
        "                if feature_doc_count[feat] >= self.min_feature_count:\n",
        "                    self.feature_vocab[feat] = fid\n",
        "                    fid += 1\n",
        "\n",
        "        F = len(self.feature_vocab)\n",
        "        D = len(data)\n",
        "        X = sparse.dok_matrix((D, F))\n",
        "        for idx, feats in enumerate(data):\n",
        "            for feat in feats:\n",
        "                if feat in self.feature_vocab:\n",
        "                    X[idx, self.feature_vocab[feat]] = feats[feat]\n",
        "\n",
        "        return X\n",
        "\n",
        "\n",
        "    # Train model and evaluate on held-out data\n",
        "    def train(self):\n",
        "        (D,F) = self.trainX.shape\n",
        "        best_dev_accuracy=0\n",
        "        best_model=None\n",
        "        for C in [0.1, 1, 10, 100]:\n",
        "            self.log_reg = linear_model.LogisticRegression(C = C, max_iter=1000)\n",
        "            self.log_reg.fit(self.trainX, self.trainY)\n",
        "            training_accuracy = self.log_reg.score(self.trainX, self.trainY)\n",
        "            development_accuracy = self.log_reg.score(self.devX, self.devY)\n",
        "            if development_accuracy > best_dev_accuracy:\n",
        "                best_dev_accuracy=development_accuracy\n",
        "                best_model=self.log_reg\n",
        "\n",
        "#             print(\"C: %s, Train accuracy: %.3f, Dev accuracy: %.3f\" % (C, training_accuracy, development_accuracy))\n",
        "\n",
        "        self.log_reg=best_model\n",
        "\n",
        "\n",
        "    def test(self):\n",
        "        return self.log_reg.score(self.testX, self.testY)\n",
        "\n",
        "    def predict(self, X):\n",
        "        return self.log_reg.predict(X)\n",
        "\n",
        "    def printWeights(self, n=10):\n",
        "\n",
        "        reverse_vocab=[None]*len(self.log_reg.coef_[0])\n",
        "        for k in self.feature_vocab:\n",
        "            reverse_vocab[self.feature_vocab[k]]=k\n",
        "\n",
        "        # binary\n",
        "        if len(self.log_reg.classes_) == 2:\n",
        "              weights=self.log_reg.coef_[0]\n",
        "\n",
        "              cat=self.log_reg.classes_[1]\n",
        "              for feature, weight in list(reversed(sorted(zip(reverse_vocab, weights), key = operator.itemgetter(1))))[:n]:\n",
        "                  print(\"%s\\t%.3f\\t%s\" % (cat, weight, feature))\n",
        "              print()\n",
        "\n",
        "              cat=self.log_reg.classes_[0]\n",
        "              for feature, weight in list(sorted(zip(reverse_vocab, weights), key = operator.itemgetter(1)))[:n]:\n",
        "                  print(\"%s\\t%.3f\\t%s\" % (cat, weight, feature))\n",
        "              print()\n",
        "\n",
        "        # multiclass\n",
        "        else:\n",
        "          for i, cat in enumerate(self.log_reg.classes_):\n",
        "\n",
        "              weights=self.log_reg.coef_[i]\n",
        "\n",
        "              for feature, weight in list(reversed(sorted(zip(reverse_vocab, weights), key = operator.itemgetter(1))))[:n]:\n",
        "                  print(\"%s\\t%.3f\\t%s\" % (cat, weight, feature))\n",
        "              print()\n",
        "\n"
      ],
      "metadata": {
        "id": "Ocn7SLAlV9VI"
      },
      "execution_count": null,
      "outputs": []
    },
    {
      "cell_type": "code",
      "source": [
        "def binary_bow_featurize(text):\n",
        "    feats = {}\n",
        "    words = nltk.word_tokenize(text)\n",
        "\n",
        "    for word in words:\n",
        "        word=word.lower()\n",
        "        feats[word]=1\n",
        "\n",
        "    return feats\n",
        "def confidence_intervals(accuracy, n, significance_level):\n",
        "    critical_value=(1-significance_level)/2\n",
        "    z_alpha=-1*norm.ppf(critical_value)\n",
        "    se=math.sqrt((accuracy*(1-accuracy))/n)\n",
        "    return accuracy-(se*z_alpha), accuracy+(se*z_alpha)"
      ],
      "metadata": {
        "id": "FjHvzPV_Umlq"
      },
      "execution_count": null,
      "outputs": []
    },
    {
      "cell_type": "code",
      "source": [
        "def run(df_train, df_dev, df_test):\n",
        "    trainX = list(df_train[\"Description\"])\n",
        "    trainY = list(df_train[\"Category\"])\n",
        "\n",
        "    devX = list(df_dev[\"Description\"])\n",
        "    devY = list(df_dev[\"Category\"])\n",
        "\n",
        "    testX = list(df_test[\"Description\"])\n",
        "    testY = list(df_test[\"Category\"])\n",
        "\n",
        "    simple_classifier = BoW_Classifier(binary_bow_featurize, trainX, trainY, devX, devY, testX, testY)\n",
        "    simple_classifier.train()\n",
        "    accuracy=simple_classifier.test()\n",
        "\n",
        "    lower, upper=confidence_intervals(accuracy, len(testY), .95)\n",
        "    print(\"Test accuracy for best dev model: %.3f, 95%% CIs: [%.3f %.3f]\\n\" % (accuracy, lower, upper))\n",
        "\n",
        "    simple_classifier.printWeights()\n",
        "    return accuracy, lower, upper\n"
      ],
      "metadata": {
        "id": "9-6Ucw6bUp87"
      },
      "execution_count": null,
      "outputs": []
    },
    {
      "cell_type": "code",
      "source": [
        "accuracy, lower, upper = run(df_train, df_dev, df_test)"
      ],
      "metadata": {
        "id": "gpjQEz2wWMhA",
        "colab": {
          "base_uri": "https://localhost:8080/"
        },
        "outputId": "3f0e4e3c-ae90-4374-8af3-ee82709ca60c"
      },
      "execution_count": null,
      "outputs": [
        {
          "output_type": "stream",
          "name": "stdout",
          "text": [
            "Test accuracy for best dev model: 0.610, 95% CIs: [0.514 0.706]\n",
            "\n",
            "Business\t0.898\tbusiness\n",
            "Business\t0.880\tmoney\n",
            "Business\t0.853\tcompany\n",
            "Business\t0.735\tmarketing\n",
            "Business\t0.683\tleader\n",
            "Business\t0.601\tthey\n",
            "Business\t0.576\tsales\n",
            "Business\t0.565\tmarket\n",
            "Business\t0.488\tcreate\n",
            "Business\t0.429\tculture\n",
            "\n",
            "History\t1.467\thistory\n",
            "History\t0.618\tof\n",
            "History\t0.522\twoman\n",
            "History\t0.475\this\n",
            "History\t0.461\tstory\n",
            "History\t0.453\tthroughout\n",
            "History\t0.431\tbetween\n",
            "History\t0.396\tthrough\n",
            "History\t0.387\tone\n",
            "History\t0.387\tplace\n",
            "\n",
            "Other\t0.677\tplanet\n",
            "Other\t0.628\tideas\n",
            "Other\t0.496\tcritical\n",
            "Other\t0.462\tabout\n",
            "Other\t0.450\tus\n",
            "Other\t0.410\tcomplex\n",
            "Other\t0.400\tseems\n",
            "Other\t0.386\tbetter\n",
            "Other\t0.365\twhy\n",
            "Other\t0.359\tdetailing\n",
            "\n",
            "Personal Development\t0.750\tlife\n",
            "Personal Development\t0.577\town\n",
            "Personal Development\t0.509\tmindfulness\n",
            "Personal Development\t0.444\tto\n",
            "Personal Development\t0.434\thealth\n",
            "Personal Development\t0.427\tletting\n",
            "Personal Development\t0.427\tresearch\n",
            "Personal Development\t0.422\tmind\n",
            "Personal Development\t0.419\thelps\n",
            "Personal Development\t0.413\tour\n",
            "\n",
            "Physical Health\t0.716\teat\n",
            "Physical Health\t0.668\thealthier\n",
            "Physical Health\t0.620\tfood\n",
            "Physical Health\t0.593\tbody\n",
            "Physical Health\t0.573\thow\n",
            "Physical Health\t0.535\timprove\n",
            "Physical Health\t0.506\tfor\n",
            "Physical Health\t0.462\tscience\n",
            "Physical Health\t0.418\tnutrition\n",
            "Physical Health\t0.398\tfeel\n",
            "\n",
            "Technology\t0.529\tpresents\n",
            "Technology\t0.446\ttechnology\n",
            "Technology\t0.425\tinformation\n",
            "Technology\t0.420\tchanged\n",
            "Technology\t0.395\tnew\n",
            "Technology\t0.389\tat\n",
            "Technology\t0.381\t’\n",
            "Technology\t0.364\tworld\n",
            "Technology\t0.349\tscientific\n",
            "Technology\t0.330\tthat\n",
            "\n"
          ]
        }
      ]
    },
    {
      "cell_type": "markdown",
      "source": [
        "## TF-IDF Logistic Regression Model"
      ],
      "metadata": {
        "id": "rYK4mvz0UsRB"
      }
    },
    {
      "cell_type": "code",
      "source": [
        "class TF_IDF_Classifier:\n",
        "\n",
        "    def __init__(self, trainX, trainY, devX, devY, testX, testY):\n",
        "        self.log_reg = None\n",
        "\n",
        "        self.trainY = trainY\n",
        "        self.devY = devY\n",
        "        self.testY = testY\n",
        "\n",
        "        # Initialize the TF-IDF vectorizer\n",
        "        self.vectorizer = TfidfVectorizer(min_df=2, analyzer='word', stop_words='english')\n",
        "        self.trainX = self.vectorizer.fit_transform(trainX)\n",
        "        self.devX = self.vectorizer.transform(devX)\n",
        "        self.testX = self.vectorizer.transform(testX)\n",
        "\n",
        "    def train(self):\n",
        "        best_dev_accuracy = 0\n",
        "        best_model = None\n",
        "        for C in [0.1, 1, 10, 100]:\n",
        "            self.log_reg = LogisticRegression(C=C, max_iter=1000)\n",
        "            self.log_reg.fit(self.trainX, self.trainY)\n",
        "            training_accuracy = self.log_reg.score(self.trainX, self.trainY)\n",
        "            development_accuracy = self.log_reg.score(self.devX, self.devY)\n",
        "            if development_accuracy > best_dev_accuracy:\n",
        "                best_dev_accuracy = development_accuracy\n",
        "                best_model = self.log_reg\n",
        "\n",
        "        self.log_reg = best_model\n",
        "\n",
        "    def test(self):\n",
        "        # Generate predictions for the test set\n",
        "        predictions = self.log_reg.predict(self.testX)\n",
        "\n",
        "        # Optionally, print out the actual and predicted labels\n",
        "        # for actual, predicted in zip(self.testY, predictions):\n",
        "        #     print(f\"Actual: {actual}, Predicted: {predicted}\")\n",
        "\n",
        "        # Calculate and return the accuracy of the model on the test set\n",
        "        accuracy = self.log_reg.score(self.testX, self.testY)\n",
        "        print(f\"Test Accuracy: {accuracy * 100:.2f}%\")\n",
        "        return accuracy\n",
        "\n",
        "    def printWeights(self, n=10):\n",
        "        feature_names = self.vectorizer.get_feature_names_out()\n",
        "        # Check if the model is binary class or multiclass and handle accordingly\n",
        "        if len(self.log_reg.classes_) == 2:\n",
        "            # Handle binary class\n",
        "            weights = self.log_reg.coef_[0]\n",
        "            cat = self.log_reg.classes_[1]\n",
        "            top_features = sorted(zip(weights, feature_names), key=lambda x: x[0], reverse=True)[:n]\n",
        "            print(f\"Top features for class {cat}:\")\n",
        "            for weight, feature in top_features:\n",
        "                print(f\"{feature}: {weight:.3f}\")\n",
        "            print()\n",
        "\n",
        "            cat = self.log_reg.classes_[0]\n",
        "            bottom_features = sorted(zip(weights, feature_names), key=lambda x: x[0])[:n]\n",
        "            print(f\"Top features for class {cat}:\")\n",
        "            for weight, feature in bottom_features:\n",
        "                print(f\"{feature}: {weight:.3f}\")\n",
        "            print()\n",
        "\n",
        "        else:\n",
        "            # Handle multiclass\n",
        "            for i, cat in enumerate(self.log_reg.classes_):\n",
        "                weights = self.log_reg.coef_[i]\n",
        "                top_features = sorted(zip(weights, feature_names), key=lambda x: x[0], reverse=True)[:n]\n",
        "                print(f\"Top features for class {cat}:\")\n",
        "                for weight, feature in top_features:\n",
        "                    print(f\"{feature}: {weight:.3f}\")\n",
        "                print()\n"
      ],
      "metadata": {
        "id": "10cY4E8JTsvn"
      },
      "execution_count": null,
      "outputs": []
    },
    {
      "cell_type": "code",
      "source": [
        "def binary_bow_featurize(text):\n",
        "    feats = {}\n",
        "    words = nltk.word_tokenize(text)\n",
        "\n",
        "    for word in words:\n",
        "        word=word.lower()\n",
        "        feats[word]=1\n",
        "\n",
        "    return feats\n",
        "def confidence_intervals(accuracy, n, significance_level):\n",
        "    critical_value=(1-significance_level)/2\n",
        "    z_alpha=-1*norm.ppf(critical_value)\n",
        "    se=math.sqrt((accuracy*(1-accuracy))/n)\n",
        "    return accuracy-(se*z_alpha), accuracy+(se*z_alpha)"
      ],
      "metadata": {
        "id": "qVQFBLGMQ3W0"
      },
      "execution_count": null,
      "outputs": []
    },
    {
      "cell_type": "code",
      "source": [
        "def tweaked_run():\n",
        "    # Assuming df_train, df_dev, df_test are pre-defined DataFrame objects\n",
        "    train_x = list(df_train[\"Description\"])\n",
        "    train_y = list(df_train[\"Category\"])\n",
        "    dev_x = list(df_dev[\"Description\"])\n",
        "    dev_y = list(df_dev[\"Category\"])\n",
        "    test_x = list(df_test[\"Description\"])\n",
        "    test_y = list(df_test[\"Category\"])\n",
        "\n",
        "    # Initialize the classifier without the feature method\n",
        "    simple_classifier = TF_IDF_Classifier(train_x, train_y, dev_x, dev_y, test_x, test_y)\n",
        "    simple_classifier.train()\n",
        "    accuracy = simple_classifier.test()\n",
        "    print(\"Test accuracy: {:.2f}%\".format(accuracy * 100))\n",
        "\n",
        "    # Call the printWeights function to display top features per class\n",
        "    simple_classifier.printWeights(n=10)\n",
        "\n",
        "    lower, upper=confidence_intervals(accuracy, len(test_y), .95)\n",
        "    print(\"Test accuracy for best dev model: %.3f, 95%% CIs: [%.3f %.3f]\\n\" % (accuracy, lower, upper))\n",
        "    return accuracy, lower, upper\n"
      ],
      "metadata": {
        "id": "wIb__ikQUO76"
      },
      "execution_count": null,
      "outputs": []
    },
    {
      "cell_type": "code",
      "source": [
        "tf_idf_accuracy, tf_idf_lower, tf_idf_upper = tweaked_run()"
      ],
      "metadata": {
        "colab": {
          "base_uri": "https://localhost:8080/"
        },
        "id": "LVNM9ZRcROGu",
        "outputId": "4100d68c-28aa-41e8-bd1c-168ded4536de"
      },
      "execution_count": null,
      "outputs": [
        {
          "output_type": "stream",
          "name": "stdout",
          "text": [
            "Test Accuracy: 60.00%\n",
            "Test accuracy: 60.00%\n",
            "Top features for class Business:\n",
            "business: 3.353\n",
            "money: 3.254\n",
            "company: 3.117\n",
            "marketing: 3.048\n",
            "sales: 2.855\n",
            "market: 2.324\n",
            "leader: 2.288\n",
            "culture: 1.810\n",
            "create: 1.700\n",
            "manage: 1.695\n",
            "\n",
            "Top features for class History:\n",
            "history: 4.863\n",
            "president: 2.281\n",
            "woman: 2.277\n",
            "tao: 2.157\n",
            "story: 1.991\n",
            "world: 1.826\n",
            "universe: 1.770\n",
            "language: 1.669\n",
            "addiction: 1.661\n",
            "woods: 1.634\n",
            "\n",
            "Top features for class Other:\n",
            "critical: 2.345\n",
            "planet: 2.341\n",
            "ideas: 2.085\n",
            "crazy: 1.857\n",
            "mass: 1.796\n",
            "sex: 1.719\n",
            "complex: 1.681\n",
            "place: 1.677\n",
            "detailing: 1.599\n",
            "looking: 1.379\n",
            "\n",
            "Top features for class Personal Development:\n",
            "life: 2.276\n",
            "help: 1.939\n",
            "health: 1.924\n",
            "self: 1.874\n",
            "questions: 1.729\n",
            "win: 1.674\n",
            "mindfulness: 1.552\n",
            "breaks: 1.514\n",
            "right: 1.493\n",
            "bad: 1.440\n",
            "\n",
            "Top features for class Physical Health:\n",
            "eat: 2.916\n",
            "food: 2.802\n",
            "body: 2.738\n",
            "healthier: 2.308\n",
            "improve: 1.893\n",
            "feel: 1.770\n",
            "science: 1.695\n",
            "nutrition: 1.695\n",
            "live: 1.658\n",
            "breathing: 1.604\n",
            "\n",
            "Top features for class Technology:\n",
            "presents: 2.538\n",
            "technology: 2.339\n",
            "information: 2.112\n",
            "changed: 2.053\n",
            "scientific: 1.997\n",
            "new: 1.557\n",
            "chaos: 1.388\n",
            "future: 1.264\n",
            "embrace: 1.195\n",
            "developed: 1.176\n",
            "\n",
            "Test accuracy for best dev model: 0.600, 95% CIs: [0.504 0.696]\n",
            "\n"
          ]
        }
      ]
    },
    {
      "cell_type": "markdown",
      "source": [
        "## TF-IDF + Bigram Regression Model"
      ],
      "metadata": {
        "id": "RpL8Dc3Ohqln"
      }
    },
    {
      "cell_type": "code",
      "source": [
        "class Bigram_Classifier:\n",
        "\n",
        "    def __init__(self, trainX, trainY, devX, devY, testX, testY):\n",
        "        self.log_reg = None\n",
        "\n",
        "        self.trainY = trainY\n",
        "        self.devY = devY\n",
        "        self.testY = testY\n",
        "\n",
        "        # Initialize the TF-IDF vectorizer\n",
        "        self.vectorizer = TfidfVectorizer(min_df=2, analyzer='word', stop_words='english', ngram_range=(1, 2))\n",
        "        self.trainX = self.vectorizer.fit_transform(trainX)\n",
        "        self.devX = self.vectorizer.transform(devX)\n",
        "        self.testX = self.vectorizer.transform(testX)\n",
        "\n",
        "    def train(self):\n",
        "        best_dev_accuracy = 0\n",
        "        best_model = None\n",
        "        for C in [0.1, 1, 10, 100]:\n",
        "            self.log_reg = LogisticRegression(C=C, max_iter=1000)\n",
        "            self.log_reg.fit(self.trainX, self.trainY)\n",
        "            training_accuracy = self.log_reg.score(self.trainX, self.trainY)\n",
        "            development_accuracy = self.log_reg.score(self.devX, self.devY)\n",
        "            if development_accuracy > best_dev_accuracy:\n",
        "                best_dev_accuracy = development_accuracy\n",
        "                best_model = self.log_reg\n",
        "\n",
        "        self.log_reg = best_model\n",
        "\n",
        "    def test(self):\n",
        "        # Generate predictions for the test set\n",
        "        predictions = self.log_reg.predict(self.testX)\n",
        "\n",
        "        # Optionally, print out the actual and predicted labels\n",
        "        # for actual, predicted in zip(self.testY, predictions):\n",
        "        #     print(f\"Actual: {actual}, Predicted: {predicted}\")\n",
        "\n",
        "        # Calculate and return the accuracy of the model on the test set\n",
        "        accuracy = self.log_reg.score(self.testX, self.testY)\n",
        "        print(f\"Test Accuracy: {accuracy * 100:.2f}%\")\n",
        "        return accuracy\n",
        "\n",
        "    def printWeights(self, n=10):\n",
        "        feature_names = self.vectorizer.get_feature_names_out()\n",
        "        # Check if the model is binary class or multiclass and handle accordingly\n",
        "        if len(self.log_reg.classes_) == 2:\n",
        "            # Handle binary class\n",
        "            weights = self.log_reg.coef_[0]\n",
        "            cat = self.log_reg.classes_[1]\n",
        "            top_features = sorted(zip(weights, feature_names), key=lambda x: x[0], reverse=True)[:n]\n",
        "            print(f\"Top features for class {cat}:\")\n",
        "            for weight, feature in top_features:\n",
        "                print(f\"{feature}: {weight:.3f}\")\n",
        "            print()\n",
        "\n",
        "            cat = self.log_reg.classes_[0]\n",
        "            bottom_features = sorted(zip(weights, feature_names), key=lambda x: x[0])[:n]\n",
        "            print(f\"Top features for class {cat}:\")\n",
        "            for weight, feature in bottom_features:\n",
        "                print(f\"{feature}: {weight:.3f}\")\n",
        "            print()\n",
        "\n",
        "        else:\n",
        "            # Handle multiclass\n",
        "            for i, cat in enumerate(self.log_reg.classes_):\n",
        "                weights = self.log_reg.coef_[i]\n",
        "                top_features = sorted(zip(weights, feature_names), key=lambda x: x[0], reverse=True)[:n]\n",
        "                print(f\"Top features for class {cat}:\")\n",
        "                for weight, feature in top_features:\n",
        "                    print(f\"{feature}: {weight:.3f}\")\n",
        "                print()\n"
      ],
      "metadata": {
        "id": "4GtYRGFUd6e_"
      },
      "execution_count": null,
      "outputs": []
    },
    {
      "cell_type": "code",
      "source": [
        "def tweaked_run():\n",
        "    # Assuming df_train, df_dev, df_test are pre-defined DataFrame objects\n",
        "    train_x = list(df_train[\"Description\"])\n",
        "    train_y = list(df_train[\"Category\"])\n",
        "    dev_x = list(df_dev[\"Description\"])\n",
        "    dev_y = list(df_dev[\"Category\"])\n",
        "    test_x = list(df_test[\"Description\"])\n",
        "    test_y = list(df_test[\"Category\"])\n",
        "\n",
        "    # Initialize the classifier without the feature method\n",
        "    simple_classifier = Bigram_Classifier(train_x, train_y, dev_x, dev_y, test_x, test_y)\n",
        "    simple_classifier.train()\n",
        "    accuracy = simple_classifier.test()\n",
        "    print(\"Test accuracy: {:.2f}%\".format(accuracy * 100))\n",
        "\n",
        "    # Call the printWeights function to display top features per class\n",
        "    simple_classifier.printWeights(n=10)\n",
        "\n",
        "    lower, upper=confidence_intervals(accuracy, len(test_y), .95)\n",
        "    print(\"Test accuracy for best dev model: %.3f, 95%% CIs: [%.3f %.3f]\\n\" % (accuracy, lower, upper))\n",
        "    return accuracy, lower, upper\n"
      ],
      "metadata": {
        "id": "Au6p5fWqh29p"
      },
      "execution_count": null,
      "outputs": []
    },
    {
      "cell_type": "code",
      "source": [
        "bigram_accuracy, bigram_lower, bigram_upper = tweaked_run()"
      ],
      "metadata": {
        "colab": {
          "base_uri": "https://localhost:8080/"
        },
        "id": "bu3jwMISh355",
        "outputId": "efa78962-a762-46e8-ac91-c3b3c8ab163e"
      },
      "execution_count": null,
      "outputs": [
        {
          "output_type": "stream",
          "name": "stdout",
          "text": [
            "Test Accuracy: 60.00%\n",
            "Test accuracy: 60.00%\n",
            "Top features for class Business:\n",
            "business: 3.320\n",
            "money: 3.226\n",
            "company: 3.042\n",
            "marketing: 2.974\n",
            "sales: 2.618\n",
            "market: 2.282\n",
            "leader: 2.153\n",
            "culture: 1.782\n",
            "manage: 1.682\n",
            "create: 1.664\n",
            "\n",
            "Top features for class History:\n",
            "history: 4.714\n",
            "woman: 2.201\n",
            "president: 2.166\n",
            "tao: 2.124\n",
            "story: 1.864\n",
            "universe: 1.765\n",
            "language: 1.673\n",
            "world: 1.644\n",
            "woods: 1.627\n",
            "addiction: 1.607\n",
            "\n",
            "Top features for class Other:\n",
            "planet: 2.277\n",
            "critical: 2.220\n",
            "ideas: 2.036\n",
            "crazy: 1.831\n",
            "mass: 1.749\n",
            "complex: 1.679\n",
            "sex: 1.649\n",
            "place: 1.636\n",
            "detailing: 1.622\n",
            "looking: 1.352\n",
            "\n",
            "Top features for class Personal Development:\n",
            "life: 2.205\n",
            "help: 1.824\n",
            "self: 1.773\n",
            "health: 1.739\n",
            "win: 1.604\n",
            "questions: 1.549\n",
            "mindfulness: 1.542\n",
            "right: 1.455\n",
            "breaks: 1.404\n",
            "happiness: 1.400\n",
            "\n",
            "Top features for class Physical Health:\n",
            "food: 2.822\n",
            "eat: 2.808\n",
            "body: 2.647\n",
            "healthier: 2.191\n",
            "improve: 1.893\n",
            "science: 1.659\n",
            "feel: 1.656\n",
            "nutrition: 1.627\n",
            "breathing: 1.574\n",
            "eating: 1.569\n",
            "\n",
            "Top features for class Technology:\n",
            "presents: 2.497\n",
            "technology: 2.285\n",
            "information: 2.074\n",
            "changed: 2.021\n",
            "scientific: 2.012\n",
            "new: 1.551\n",
            "chaos: 1.394\n",
            "future: 1.206\n",
            "revolution: 1.140\n",
            "data: 1.135\n",
            "\n",
            "Test accuracy for best dev model: 0.600, 95% CIs: [0.504 0.696]\n",
            "\n"
          ]
        }
      ]
    },
    {
      "cell_type": "code",
      "source": [],
      "metadata": {
        "id": "egAsKLNeiNah"
      },
      "execution_count": null,
      "outputs": []
    },
    {
      "cell_type": "markdown",
      "source": [
        "## Model Comparisons\n"
      ],
      "metadata": {
        "id": "k4twtgNQirr5"
      }
    },
    {
      "cell_type": "code",
      "source": [
        "def compare():\n",
        "  print(\"Test accuracy for simple logistic regression: %.3f\" %(accuracy))\n",
        "  print(\"Test accuracy for TF-IDF logistic regression: %.3f\" %(tf_idf_accuracy))\n",
        "  print(\"Test accuracy for TF-IDF + bigram logistic regression: %.3f\" %(bigram_accuracy))\n",
        "  print()\n",
        "  print(\"The 95%% CIs for simple logistic regression: [%.3f %.3f]\" % (lower, upper))\n",
        "  print(\"The 95%% CIs for TF-IDF logisitic regression: [%.3f %.3f]\" % (tf_idf_lower, tf_idf_upper))\n",
        "  print(\"The 95%% CIs for TF-IDF + bigram logistic regression: [%.3f %.3f]\" % (bigram_lower, bigram_upper))\n",
        "\n",
        "compare()"
      ],
      "metadata": {
        "colab": {
          "base_uri": "https://localhost:8080/"
        },
        "id": "PH-GX-4FitgB",
        "outputId": "cdfc969e-ed75-48d8-9f4e-0bd3239fb988"
      },
      "execution_count": null,
      "outputs": [
        {
          "output_type": "stream",
          "name": "stdout",
          "text": [
            "Test accuracy for simple logistic regression: 0.610\n",
            "Test accuracy for TF-IDF logistic regression: 0.600\n",
            "Test accuracy for TF-IDF + bigram logistic regression: 0.600\n",
            "\n",
            "The 95% CIs for simple logistic regression: [0.514 0.706]\n",
            "The 95% CIs for TF-IDF logisitic regression: [0.504 0.696]\n",
            "The 95% CIs for TF-IDF + bigram logistic regression: [0.504 0.696]\n"
          ]
        }
      ]
    },
    {
      "cell_type": "code",
      "source": [],
      "metadata": {
        "id": "rluqlgT8jgKr"
      },
      "execution_count": null,
      "outputs": []
    },
    {
      "cell_type": "markdown",
      "source": [
        "# Part B - Analysis"
      ],
      "metadata": {
        "id": "YJDaq5KokasJ"
      }
    },
    {
      "cell_type": "markdown",
      "source": [
        "### Inter-Model Analysis"
      ],
      "metadata": {
        "id": "ELwOPdjqoV_O"
      }
    },
    {
      "cell_type": "markdown",
      "source": [
        "In evaluating the performance of three distinct text classification models—simple logistic regression using Bag of Words (BoW), TF-IDF, and TF-IDF with bigrams—it's observed that the TF-IDF model generally surpasses the basic BoW approach. The strength of TF-IDF lies in its ability to weight terms not only by their frequency within a specific document but also by their inverse frequency across all documents, emphasizing words that uniquely characterize a document. This method reduces the influence of common but less informative words that typically flood a simple BoW model, where every term is equally weighted regardless of its distribution across texts. Consequently, the TF-IDF model tends to be more adept at distinguishing between different textual categories, leading to higher overall accuracy and more reliable confidence intervals that suggest a stronger ability to generalize across varied datasets.\n",
        "\n",
        "However, when incorporating bigrams into the TF-IDF model, the performance becomes less predictable. While this approach can capture more nuanced linguistic structures—such as specific phrases that unigrams might miss, potentially improving the model's understanding of context—the expanded feature space also increases the risk of overfitting and can introduce significant sparsity into the data representation. These factors can lead to wider confidence intervals, indicating increased uncertainty in predictions, especially when the training data does not sufficiently represent the complexity introduced by bigrams. On an individual run basis, the ranking of these models in terms of accuracy and confidence intervals can fluctuate: the bigram-enhanced TF-IDF model sometimes outperforms all, reflecting its potential to harness deeper textual meanings, but it can also lag behind, particularly in scenarios where the additional features confuse rather than clarify the model's decisions. Over the long haul, while the TF-IDF consistently performs better than the simple BoW, the bigram model’s success is contingent on the nature of the dataset and the adequacy of the training examples to support its broader linguistic analysis. This variability underscores the need for comprehensive cross-validation and robustness checks before deploying these models in practice, ensuring that each model's predictive confidence is well understood."
      ],
      "metadata": {
        "id": "aKL4Mt3Hoc4y"
      }
    },
    {
      "cell_type": "code",
      "source": [
        "compare()"
      ],
      "metadata": {
        "colab": {
          "base_uri": "https://localhost:8080/"
        },
        "id": "os-aAwpAoYox",
        "outputId": "82529bd9-d0ac-44b9-e716-16ee8d968e24"
      },
      "execution_count": null,
      "outputs": [
        {
          "output_type": "stream",
          "name": "stdout",
          "text": [
            "Test accuracy for simple logistic regression: 0.610\n",
            "Test accuracy for TF-IDF logistic regression: 0.600\n",
            "Test accuracy for TF-IDF + bigram logistic regression: 0.600\n",
            "\n",
            "The 95% CIs for simple logistic regression: [0.514 0.706]\n",
            "The 95% CIs for TF-IDF logisitic regression: [0.504 0.696]\n",
            "The 95% CIs for TF-IDF + bigram logistic regression: [0.504 0.696]\n"
          ]
        }
      ]
    },
    {
      "cell_type": "markdown",
      "source": [
        "### Confusion Matrix"
      ],
      "metadata": {
        "id": "Z48zZKtWp1bL"
      }
    },
    {
      "cell_type": "code",
      "source": [
        "from sklearn.metrics import confusion_matrix\n",
        "import matplotlib.pyplot as plt\n",
        "import seaborn as sns\n",
        "\n",
        "# Assuming the trainX, trainY, testX, testY are already defined and properly formatted\n",
        "trainX = list(df_train[\"Description\"])\n",
        "trainY = list(df_train[\"Category\"])\n",
        "devX = list(df_dev[\"Description\"])\n",
        "devY = list(df_dev[\"Category\"])\n",
        "testX = list(df_test[\"Description\"])\n",
        "testY = list(df_test[\"Category\"])\n",
        "\n",
        "# Initialize the classifier\n",
        "bow_classifier = BoW_Classifier(binary_bow_featurize, trainX, trainY, devX, devY, testX, testY)\n",
        "\n",
        "# Train the classifier\n",
        "bow_classifier.train()\n",
        "\n",
        "# Predict the test dataset using the predict method you've defined\n",
        "test_predictions = bow_classifier.predict(bow_classifier.testX)\n",
        "\n",
        "# Generate the confusion matrix\n",
        "conf_mat = confusion_matrix(testY, test_predictions)\n"
      ],
      "metadata": {
        "id": "qYEXzukFqB_9"
      },
      "execution_count": null,
      "outputs": []
    },
    {
      "cell_type": "code",
      "source": [
        "# Plotting the confusion matrix\n",
        "plt.figure(figsize=(10, 7))\n",
        "sns.heatmap(conf_mat, annot=True, fmt='d', cmap='Blues', xticklabels=bow_classifier.log_reg.classes_, yticklabels=bow_classifier.log_reg.classes_)\n",
        "plt.xlabel('Predicted Labels')\n",
        "plt.ylabel('True Labels')\n",
        "plt.title('Confusion Matrix for BoW Classifier')\n",
        "plt.show()\n"
      ],
      "metadata": {
        "colab": {
          "base_uri": "https://localhost:8080/",
          "height": 784
        },
        "id": "7fU-Qf8SrgDj",
        "outputId": "e98b5baa-d27b-42a0-9fb0-6d485bd89423"
      },
      "execution_count": null,
      "outputs": [
        {
          "output_type": "display_data",
          "data": {
            "text/plain": [
              "<Figure size 1000x700 with 2 Axes>"
            ],
            "image/png": "[encoded data removed]"
          },
          "metadata": {}
        }
      ]
    },
    {
      "cell_type": "markdown",
      "source": [
        "The confusion matrix for the Bag of Words (BoW) logistic regression model, used for classifying book genres from summaries, shows the highest success rate in the 'Personal Development' category, indicating distinctive keywords that are well captured by the model. However, the model struggles with the 'Business' genre, often confusing it with 'Personal Development', which could suggest overlapping themes or vocabulary. Misclassifications in the 'Other' category are frequent as well, likely due to its broad and diverse nature. It seems as if most misclassifications are categories being predicted as Personal Development. For example, all 5 Physical Health were predicted as Personal Development, and of the 6 technology books 2 were predicted to be history and the rest as Personal Development.\n",
        "\n",
        "These insights from the confusion matrix suggest that the model could benefit from refined feature extraction methods such as TF-IDF and the inclusion of bigrams to capture more contextual details. The evident misclassifications also point towards a need for an in-depth error analysis and potentially addressing class imbalance in the dataset. Moving forward from this analysis my priority would be creating a better model to reduce false positive rate for personal development. This would include improving the specificity for Personal Development as well as the sensitivty of genres like Physical Health and Other. Optimizing these aspects could lead to improved model performance and more reliable genre classification."
      ],
      "metadata": {
        "id": "KUAzIEQPu8zr"
      }
    },
    {
      "cell_type": "markdown",
      "source": [
        "### Feature Importance"
      ],
      "metadata": {
        "id": "BOtQPscmw58w"
      }
    },
    {
      "cell_type": "code",
      "source": [
        "import numpy as np\n",
        "\n",
        "# Access the logistic regression model's coefficients\n",
        "# Assuming `log_reg` is the logistic regression instance within your `BoW_Classifier`\n",
        "coefficients = bow_classifier.log_reg.coef_\n",
        "\n",
        "# Get feature names using the feature vocabulary of your BoW model\n",
        "# This might vary depending on how you've implemented BoW_Classifier\n",
        "# Assuming `feature_vocab` is a dict mapping feature names to their indices\n",
        "feature_names = sorted(bow_classifier.feature_vocab, key=bow_classifier.feature_vocab.get)\n",
        "\n",
        "# For each class, find and print the features with the highest coefficients\n",
        "for i, category in enumerate(bow_classifier.log_reg.classes_):\n",
        "    # Sort the coefficients for the class and get the indices of the sorted array\n",
        "    top_feature_indices = coefficients[i].argsort()[::-1]\n",
        "\n",
        "    # Get the names of the most important features for this class\n",
        "    top_features = np.array(feature_names)[top_feature_indices]\n",
        "\n",
        "    # Now print the top features with their corresponding coefficients\n",
        "    print(f\"Top features for class '{category}':\")\n",
        "    for feature_index in top_feature_indices[:10]:  # Adjust the number as needed\n",
        "        print(f\"{feature_names[feature_index]}: {coefficients[i][feature_index]:.4f}\")\n",
        "    print(\"\\n\")\n"
      ],
      "metadata": {
        "colab": {
          "base_uri": "https://localhost:8080/"
        },
        "id": "5UfgpfRWycoR",
        "outputId": "cfd41b4e-6205-4845-e4f8-728857569927"
      },
      "execution_count": null,
      "outputs": [
        {
          "output_type": "stream",
          "name": "stdout",
          "text": [
            "Top features for class 'Business':\n",
            "business: 0.8975\n",
            "money: 0.8804\n",
            "company: 0.8525\n",
            "marketing: 0.7352\n",
            "leader: 0.6834\n",
            "they: 0.6007\n",
            "sales: 0.5755\n",
            "market: 0.5654\n",
            "create: 0.4879\n",
            "culture: 0.4285\n",
            "\n",
            "\n",
            "Top features for class 'History':\n",
            "history: 1.4672\n",
            "of: 0.6178\n",
            "woman: 0.5224\n",
            "his: 0.4751\n",
            "story: 0.4611\n",
            "throughout: 0.4535\n",
            "between: 0.4314\n",
            "through: 0.3963\n",
            "one: 0.3873\n",
            "place: 0.3868\n",
            "\n",
            "\n",
            "Top features for class 'Other':\n",
            "planet: 0.6771\n",
            "ideas: 0.6283\n",
            "critical: 0.4961\n",
            "about: 0.4620\n",
            "us: 0.4496\n",
            "complex: 0.4103\n",
            "seems: 0.4004\n",
            "better: 0.3857\n",
            "why: 0.3654\n",
            "detailing: 0.3591\n",
            "\n",
            "\n",
            "Top features for class 'Personal Development':\n",
            "life: 0.7501\n",
            "own: 0.5767\n",
            "mindfulness: 0.5090\n",
            "to: 0.4444\n",
            "health: 0.4336\n",
            "letting: 0.4275\n",
            "research: 0.4270\n",
            "mind: 0.4225\n",
            "helps: 0.4185\n",
            "our: 0.4135\n",
            "\n",
            "\n",
            "Top features for class 'Physical Health':\n",
            "eat: 0.7160\n",
            "healthier: 0.6683\n",
            "food: 0.6200\n",
            "body: 0.5931\n",
            "how: 0.5733\n",
            "improve: 0.5349\n",
            "for: 0.5056\n",
            "science: 0.4616\n",
            "nutrition: 0.4177\n",
            "feel: 0.3977\n",
            "\n",
            "\n",
            "Top features for class 'Technology':\n",
            "presents: 0.5290\n",
            "technology: 0.4464\n",
            "information: 0.4249\n",
            "changed: 0.4195\n",
            "new: 0.3952\n",
            "at: 0.3895\n",
            "’: 0.3809\n",
            "world: 0.3640\n",
            "scientific: 0.3491\n",
            "that: 0.3301\n",
            "\n",
            "\n"
          ]
        }
      ]
    },
    {
      "cell_type": "markdown",
      "source": [
        "Looking at the most important features for each class it is clear that the History class would be relatively accurate seeing how there are no stop words in the top features and they are all words relevant to History as a category. However, if we look at classes like Other we can see there is no general theme to the words. Despite the class being designed as a 'catch all' it is still relatively unsuccesfull and this is represented via the top features. Moreover, looking at the Business, health, and tech classes we can see similar things. Stop words like ':', 'for', 'your' and 'they' are prevalent. This shows that the classifier is doing an improper job of identifying key words and weighting them accordingly. Lastly, looking back at the confusion matrix we can see that the model has a hard time differentiating bussiness from personal development. This is further established in this section when we see the top features in both classes are similar and even contain some of the same words. Next steps in improving our model accuracy could include shifting away from a Bag of Words approach, filtering and removing stop words, placing an emphasis on ensuring the top features in each class are different, and looking at summaries on a less granular n-gram level."
      ],
      "metadata": {
        "id": "sudPWmbzz9jE"
      }
    },
    {
      "cell_type": "markdown",
      "source": [
        "### Error Analysis"
      ],
      "metadata": {
        "id": "LRjldNQ31pqX"
      }
    },
    {
      "cell_type": "code",
      "source": [
        "import pandas as pd\n",
        "pd.set_option('display.max_colwidth', None)\n",
        "\n",
        "# Set the pandas option to display the full content of the column\n",
        "pd.set_option('display.max_colwidth', None)\n",
        "\n",
        "# Assuming testX is a list of the actual book summaries, testY is the true labels, and test_predictions are the model predictions\n",
        "# Convert these lists into a DataFrame for easier manipulation\n",
        "df_errors = pd.DataFrame({\n",
        "    'Summary': testX,\n",
        "    'True_Label': testY,\n",
        "    'Predicted_Label': test_predictions\n",
        "})\n",
        "\n",
        "# Identify misclassified examples\n",
        "df_errors = df_errors[df_errors['True_Label'] != df_errors['Predicted_Label']]\n",
        "\n",
        "# Loop through each unique class in the true labels and display one misclassified example per class\n",
        "for label in df_errors['True_Label'].unique():\n",
        "    error_for_class = df_errors[df_errors['True_Label'] == label].sample(1) if len(df_errors[df_errors['True_Label'] == label]) > 0 else None\n",
        "    if error_for_class is not None:\n",
        "        print(f\"Error for class '{label}':\")\n",
        "        print(error_for_class[['Summary', 'True_Label', 'Predicted_Label']])\n",
        "        print(\"\\n\")\n",
        "\n",
        "## if you want to see more errors look at the df_errors dataframe"
      ],
      "metadata": {
        "colab": {
          "base_uri": "https://localhost:8080/"
        },
        "id": "ZBQE84Ze3SIn",
        "outputId": "eb36985e-f14d-4140-fbdb-e0d63f0a5304"
      },
      "execution_count": null,
      "outputs": [
        {
          "output_type": "stream",
          "name": "stdout",
          "text": [
            "Error for class 'History':\n",
            "                                                                                                                                                                                                                                                         Summary  \\\n",
            "62  Fascism explores the nature behind this far-right authoritarian ideology, how it can rise to power in uncertain times and why it poses a serious threat even in our present days against our most democratic systems such as in the United States or Europe.   \n",
            "\n",
            "   True_Label       Predicted_Label  \n",
            "62    History  Personal Development  \n",
            "\n",
            "\n",
            "Error for class 'Other':\n",
            "                                                                                                                                                             Summary  \\\n",
            "20  An Audience Of One is a practical and inspiring manual for creators who want to live from their art, showing a simple, purpose-driven path to achieve that goal.   \n",
            "\n",
            "   True_Label       Predicted_Label  \n",
            "20      Other  Personal Development  \n",
            "\n",
            "\n",
            "Error for class 'Business':\n",
            "                                                                                                                                                                                                                                            Summary  \\\n",
            "61  A Year With Peter Drucker compiles 52 lessons with weekly exercises into one comprehensive, year-long curriculum for managers, leaders, and those who aspire to be one or the other, based on the teachings of the father of modern management.   \n",
            "\n",
            "   True_Label Predicted_Label  \n",
            "61   Business         History  \n",
            "\n",
            "\n",
            "Error for class 'Physical Health':\n",
            "                                                                                                                                                                                            Summary  \\\n",
            "69  The Unexpected Joy Of Being Sober will help you have a happier and healthier life by persuasively revealing the many disadvantages of alcohol and the benefits of going without it permanently.   \n",
            "\n",
            "         True_Label       Predicted_Label  \n",
            "69  Physical Health  Personal Development  \n",
            "\n",
            "\n",
            "Error for class 'Technology':\n",
            "                                                                                                                                                                                       Summary  \\\n",
            "25  Tubes is a behind-the-scenes look at the real, tangible, physical heart of the internet, this elusive and seemingly invisible technology that permeates all of our lives on a daily basis.   \n",
            "\n",
            "    True_Label Predicted_Label  \n",
            "25  Technology         History  \n",
            "\n",
            "\n",
            "Error for class 'Personal Development':\n",
            "                                                                                                                                                                                                               Summary  \\\n",
            "24  Burn the Boats is an inspiring call to go all-in on your dreams, create a point of no return, and let the lack of a Plan B propel you to success, written by a high school dropout turned million-dollar investor.   \n",
            "\n",
            "              True_Label Predicted_Label  \n",
            "24  Personal Development        Business  \n",
            "\n",
            "\n"
          ]
        }
      ]
    },
    {
      "cell_type": "markdown",
      "source": [
        "One of the primary reasons for misclassifications seems to stem from the overlap in themes or vocabulary between certain genres, notably 'Business' and 'Personal Development'. It becomes evident that there are common keywords or phrases that are shared between these categories. For instance, words like \"help\", \"mind\", \"guide,\" \"growth,\" or \"success\" may appear in both 'Business' and 'Personal Development' summaries, leading to confusion for the model.\n",
        "\n",
        "Moreover, the frequent misclassification of summaries into the 'Personal Development' category could be attributed to the prominence of certain keywords or concepts that are strongly associated with personal growth and self-improvement. These words might be weighted heavily in the feature extraction process, causing the model to bias towards predicting 'Personal Development' even when the summary belongs to a different genre. For example, reviews from the 'Physical Health' category were misclassified as 'Personal Development' could be due to the presence of words like \"wellness,\" \"fitness,\" or \"self-care,\" which are often associated with personal development as well.\n",
        "\n",
        "Misclassifications of summaries into the 'Other' category could be a result of the broad and diverse nature of this category, making it challenging for the model to discern specific themes or topics. Without clear distinguishing features, the model may struggle to accurately classify these summaries into more defined genres.\n",
        "\n",
        "To address these misclassifications, it's essential to conduct a thorough analysis of the keywords or features that contribute to the model's predictions. By identifying and possibly adjusting the weights of certain words or phrases that are causing confusion, we can refine the feature extraction process. As we incorporate TF-IDF and bigrams, it does help capture more contextual details."
      ],
      "metadata": {
        "id": "HgY_JjuyYMKp"
      }
    },
    {
      "cell_type": "markdown",
      "source": [
        "### Confidence Intervals Analysis\n"
      ],
      "metadata": {
        "id": "b4BapnQN94K2"
      }
    },
    {
      "cell_type": "markdown",
      "source": [],
      "metadata": {
        "id": "cwasqTa99_Ft"
      }
    },
    {
      "cell_type": "code",
      "source": [
        "models = ['Simple Logistic Regression', 'TF-IDF Logistic Regression', 'TF-IDF + Bigram Logistic Regression']\n",
        "lower_bounds = [0.432, 0.442, 0.422]\n",
        "upper_bounds = [0.628, 0.638, 0.618]\n",
        "\n",
        "lower_bounds = np.array(lower_bounds)\n",
        "upper_bounds = np.array(upper_bounds)\n",
        "mean_accuracy = (lower_bounds + upper_bounds) / 2\n",
        "yerr = (upper_bounds - lower_bounds) / 2\n",
        "\n",
        "plt.figure(figsize=(10, 6))\n",
        "plt.errorbar(models, mean_accuracy, yerr=yerr, fmt='o', capsize=5)\n",
        "plt.title('95% Confidence Intervals Comparison')\n",
        "plt.xlabel('Model')\n",
        "plt.ylabel('Accuracy')\n",
        "plt.grid(True)\n",
        "plt.xticks(rotation=45)\n",
        "plt.tight_layout()\n",
        "plt.show()"
      ],
      "metadata": {
        "colab": {
          "base_uri": "https://localhost:8080/",
          "height": 607
        },
        "id": "LBfrE2mJ-8WJ",
        "outputId": "85c25bcf-6015-4aa9-c44a-5680076ac7a8"
      },
      "execution_count": null,
      "outputs": [
        {
          "output_type": "display_data",
          "data": {
            "text/plain": [
              "<Figure size 1000x600 with 1 Axes>"
            ],
            "image/png": "[encoded data removed]"
          },
          "metadata": {}
        }
      ]
    },
    {
      "cell_type": "markdown",
      "source": [
        "Firstly, the CIs for the logistic regression model using BoW indicate a relatively moderate level of confidence in its performance, with a range of [0.432, 0.628]. While this suggests that the model is reasonably accurate within this interval, the width of the range implies some variability and uncertainty in its predictions. This variability could stem from the simplistic nature of BoW, which treats each term equally without considering their contextual importance.\n",
        "\n",
        "In contrast, the TF-IDF logistic regression model exhibits slightly narrower confidence intervals, with a range of [0.442, 0.638]. This suggests a marginally higher level of confidence in the model's predictions compared to the BoW approach. The TF-IDF method's ability to weigh terms based on their uniqueness across documents likely contributes to this improved confidence, as it emphasizes more informative words while downplaying common ones, leading to more accurate classification.\n",
        "\n",
        "However, the introduction of bigrams into the TF-IDF model complicates the picture. The confidence intervals widen again, with a range of [0.422, 0.618]. This widening suggests increased uncertainty in predictions, possibly due to the expanded feature space and the risk of overfitting introduced by bigrams. While bigrams can capture detailed linguistic structures and potentially enhance the model's understanding of context, they also increase the complexity of the data representation, leading to wider confidence intervals and greater uncertainty in predictions.\n",
        "\n",
        "These confidence interval analyses highlight the trade-offs between model complexity and predictive reliability. While the TF-IDF model generally outperforms the simple BoW approach in terms of accuracy and confidence, the addition of bigrams introduces variability depending on the dataset's nature and the adequacy of training examples. Therefore, it underscores the importance of thorough cross-validation and robustness checks to ensure the reliability and generalizability of text classification models before deployment in practical settings."
      ],
      "metadata": {
        "id": "ENIxH4ugYRu1"
      }
    },
    {
      "cell_type": "code",
      "source": [],
      "metadata": {
        "id": "hGrpxULl33g3"
      },
      "execution_count": null,
      "outputs": []
    }
  ],
  "metadata": {
    "colab": {
      "provenance": []
    },
    "kernelspec": {
      "display_name": "Python 3",
      "name": "python3"
    },
    "language_info": {
      "name": "python"
    }
  },
  "nbformat": 4,
  "nbformat_minor": 0
}